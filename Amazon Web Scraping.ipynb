{
 "cells": [
  {
   "cell_type": "code",
   "execution_count": 1,
   "id": "2b500b6d",
   "metadata": {},
   "outputs": [
    {
     "name": "stdout",
     "output_type": "stream",
     "text": [
      "Requirement already satisfied: bs4 in c:\\users\\dell\\anaconda3\\lib\\site-packages (0.0.1)Note: you may need to restart the kernel to use updated packages.\n",
      "\n",
      "Requirement already satisfied: beautifulsoup4 in c:\\users\\dell\\anaconda3\\lib\\site-packages (from bs4) (4.9.3)\n",
      "Requirement already satisfied: soupsieve>1.2 in c:\\users\\dell\\anaconda3\\lib\\site-packages (from beautifulsoup4->bs4) (2.2.1)\n"
     ]
    }
   ],
   "source": [
    "pip install bs4"
   ]
  },
  {
   "cell_type": "code",
   "execution_count": 2,
   "id": "67efcdc0",
   "metadata": {},
   "outputs": [],
   "source": [
    "from bs4 import BeautifulSoup as bs"
   ]
  },
  {
   "cell_type": "code",
   "execution_count": 3,
   "id": "68671327",
   "metadata": {},
   "outputs": [],
   "source": [
    "from urllib.request import urlopen"
   ]
  },
  {
   "cell_type": "code",
   "execution_count": 11,
   "id": "41c2099a",
   "metadata": {},
   "outputs": [],
   "source": [
    "from bs4 import BeautifulSoup\n",
    "import requests\n",
    "import time\n",
    "import datetime\n",
    "\n",
    "import smtplib"
   ]
  },
  {
   "cell_type": "code",
   "execution_count": 18,
   "id": "67c321dc",
   "metadata": {},
   "outputs": [],
   "source": [
    "URL ='https://www.amazon.com/dp/B0957VY752/ref=syn_sd_onsite_desktop_0?ie=UTF8&pd_rd_plhdr=t&customId=B0752XJYNL&customizationToken=MC_Assembly_1%23B0752XJYNL&th=1&psc=1'"
   ]
  },
  {
   "cell_type": "code",
   "execution_count": 19,
   "id": "c9de5c36",
   "metadata": {},
   "outputs": [],
   "source": [
    "headers = {\"User-Agent\": \"Mozilla/5.0 (Windows NT 10.0; Win64; x64) AppleWebKit/537.36 (KHTML, like Gecko) Chrome/78.0.3904.108 Safari/537.36\", \"Accept-Encoding\":\"gzip, deflate\", \"Accept\":\"text/html,application/xhtml+xml,application/xml;q=0.9,*/*;q=0.8\", \"DNT\":\"1\",\"Connection\":\"close\", \"Upgrade-Insecure-Requests\":\"1\"}\n"
   ]
  },
  {
   "cell_type": "code",
   "execution_count": 20,
   "id": "d6180d3e",
   "metadata": {},
   "outputs": [],
   "source": [
    "page = requests.get(URL, headers=headers)"
   ]
  },
  {
   "cell_type": "code",
   "execution_count": 26,
   "id": "f3d791e8",
   "metadata": {},
   "outputs": [],
   "source": [
    "soup1 = BeautifulSoup(page.content, \"html.parser\")\n",
    "\n",
    "soup2 = BeautifulSoup(soup1.prettify(), \"html.parser\")"
   ]
  },
  {
   "cell_type": "code",
   "execution_count": 28,
   "id": "6569f42c",
   "metadata": {},
   "outputs": [],
   "source": [
    "containers = soup2.find_all(\"div\",{\"class\": \"a-row\"})"
   ]
  },
  {
   "cell_type": "code",
   "execution_count": 29,
   "id": "d7c8224c",
   "metadata": {},
   "outputs": [
    {
     "data": {
      "text/plain": [
       "47"
      ]
     },
     "execution_count": 29,
     "metadata": {},
     "output_type": "execute_result"
    }
   ],
   "source": [
    "len(containers)"
   ]
  },
  {
   "cell_type": "code",
   "execution_count": 58,
   "id": "7b38c5ef",
   "metadata": {},
   "outputs": [
    {
     "data": {
      "text/plain": [
       "'<div class=\"a-row\">\\n <div class=\"celwidget\" data-csa-c-asin=\"B0957VY752\" data-csa-c-content-id=\"companyCompliancePolicies\" data-csa-c-is-in-initial-active-row=\"false\" data-csa-c-slot-id=\"companyCompliancePolicies_feature_div\" data-csa-c-type=\"widget\" data-feature-name=\"companyCompliancePolicies\" id=\"companyCompliancePolicies_feature_div\">\\n </div>\\n <div class=\"celwidget\" data-csa-c-asin=\"B0957VY752\" data-csa-c-content-id=\"orderInformationGroupDesktop\" data-csa-c-is-in-initial-active-row=\"false\" data-csa-c-slot-id=\"orderInformationGroupDesktop\" data-csa-c-type=\"widget\" data-feature-name=\"orderInformationGroupDesktop\" id=\"orderInformationGroupDesktop\">\\n  <script>\\n   ue && typeof ue.count === \\'function\\' && ue.count(\"OIG.csm.common.rendered\", 1);\\n  </script>\\n </div>\\n</div>\\n'"
      ]
     },
     "execution_count": 58,
     "metadata": {},
     "output_type": "execute_result"
    }
   ],
   "source": [
    "bs.prettify(containers[0])"
   ]
  },
  {
   "cell_type": "code",
   "execution_count": 156,
   "id": "619aba9f",
   "metadata": {},
   "outputs": [],
   "source": [
    "title = soup2.find(id='productTitle').text"
   ]
  },
  {
   "cell_type": "code",
   "execution_count": 157,
   "id": "ee1e4706",
   "metadata": {},
   "outputs": [
    {
     "data": {
      "text/plain": [
       "'\\n              Technically The Glass Is Full - Chemistry Humor Science T-Shirt\\n             '"
      ]
     },
     "execution_count": 157,
     "metadata": {},
     "output_type": "execute_result"
    }
   ],
   "source": [
    "title"
   ]
  },
  {
   "cell_type": "code",
   "execution_count": 158,
   "id": "b460b0b9",
   "metadata": {},
   "outputs": [],
   "source": [
    "rating = soup2.find(id='acrCustomerReviewText').text"
   ]
  },
  {
   "cell_type": "code",
   "execution_count": 159,
   "id": "44b2d51b",
   "metadata": {},
   "outputs": [
    {
     "data": {
      "text/plain": [
       "'\\n                 22 ratings\\n                '"
      ]
     },
     "execution_count": 159,
     "metadata": {},
     "output_type": "execute_result"
    }
   ],
   "source": [
    "rating"
   ]
  },
  {
   "cell_type": "code",
   "execution_count": 160,
   "id": "67a0e75d",
   "metadata": {},
   "outputs": [
    {
     "name": "stdout",
     "output_type": "stream",
     "text": [
      "Technically The Glass Is Full - Chemistry Humor Science T-Shirt\n",
      "22 ratings\n"
     ]
    }
   ],
   "source": [
    "# Clean up the data a little bit\n",
    "\n",
    "title = title.strip()\n",
    "rating = rating.strip()\n",
    "\n",
    "print(title)\n",
    "print(rating)"
   ]
  },
  {
   "cell_type": "code",
   "execution_count": 64,
   "id": "0fff2ed9",
   "metadata": {},
   "outputs": [
    {
     "data": {
      "text/plain": [
       "'echnically The Glass Is Full - Chemistry Humor Science T-Shirt'"
      ]
     },
     "execution_count": 64,
     "metadata": {},
     "output_type": "execute_result"
    }
   ],
   "source": []
  },
  {
   "cell_type": "code",
   "execution_count": 161,
   "id": "66f19aca",
   "metadata": {},
   "outputs": [
    {
     "name": "stdout",
     "output_type": "stream",
     "text": [
      "2023-05-20\n"
     ]
    }
   ],
   "source": [
    "# Create a Timestamp for your output to track when data was collected\n",
    "import datetime\n",
    "\n",
    "today = datetime.date.today()\n",
    "\n",
    "print(today)"
   ]
  },
  {
   "cell_type": "code",
   "execution_count": null,
   "id": "601178d9",
   "metadata": {},
   "outputs": [],
   "source": []
  },
  {
   "cell_type": "code",
   "execution_count": 189,
   "id": "5a32acad",
   "metadata": {},
   "outputs": [],
   "source": [
    "# Create CSV and write headers and data into the file\n",
    "import csv \n",
    "import datetime\n",
    "header = ['Title', 'rating','Date']\n",
    "data = [title, rating,today]\n",
    "\n",
    "\n",
    "\n",
    "with open('AmazonWebScraperDataset.csv', 'w', newline='', encoding='UTF8') as f:\n",
    "    writer = csv.writer(f)\n",
    "    writer.writerow(header)\n",
    "    writer.writerow(data)\n",
    "    "
   ]
  },
  {
   "cell_type": "code",
   "execution_count": null,
   "id": "a461c2d6",
   "metadata": {},
   "outputs": [],
   "source": []
  },
  {
   "cell_type": "code",
   "execution_count": 192,
   "id": "f115056c",
   "metadata": {},
   "outputs": [
    {
     "name": "stdout",
     "output_type": "stream",
     "text": [
      "                                               Title      rating  Date\n",
      "0  Technically The Glass Is Full - Chemistry Humo...  22 ratings   NaN\n"
     ]
    }
   ],
   "source": [
    "import pandas as pd \n",
    "\n",
    "df = pd.read_csv(r'D:\\Data Analyst Project\\Data_webscraping\\AmazonWebScraperDataset.csv')\n",
    "\n",
    "print(df) "
   ]
  },
  {
   "cell_type": "code",
   "execution_count": 191,
   "id": "e6dc4158",
   "metadata": {},
   "outputs": [],
   "source": [
    "#Now we are appending data to the csv\n",
    "\n",
    "with open('AmazonWebScraperDataset.csv', 'a+', newline='', encoding='UTF8') as f:\n",
    "    writer = csv.writer(f)\n",
    "    writer.writerow(data)"
   ]
  },
  {
   "cell_type": "code",
   "execution_count": 193,
   "id": "038fe017",
   "metadata": {},
   "outputs": [],
   "source": [
    "\n",
    "#Combine all of the above code into one function\n",
    "\n",
    "def check_price():\n",
    "    \n",
    "    URL ='https://www.amazon.com/dp/B0957VY752/ref=syn_sd_onsite_desktop_0?ie=UTF8&pd_rd_plhdr=t&customId=B0752XJYNL&customizationToken=MC_Assembly_1%23B0752XJYNL&th=1&psc=1'\n",
    "    headers = {\"User-Agent\": \"Mozilla/5.0 (Windows NT 10.0; Win64; x64) AppleWebKit/537.36 (KHTML, like Gecko) Chrome/78.0.3904.108 Safari/537.36\", \"Accept-Encoding\":\"gzip, deflate\", \"Accept\":\"text/html,application/xhtml+xml,application/xml;q=0.9,*/*;q=0.8\", \"DNT\":\"1\",\"Connection\":\"close\", \"Upgrade-Insecure-Requests\":\"1\"}\n",
    "\n",
    "    page = requests.get(URL, headers=headers)\n",
    "\n",
    "    soup1 = BeautifulSoup(page.content, \"html.parser\")\n",
    "\n",
    "    soup2 = BeautifulSoup(soup1.prettify(), \"html.parser\")\n",
    "\n",
    "    title = soup2.find(id='productTitle').text\n",
    "\n",
    "    rating = soup2.find(id='acrCustomerReviewText').text\n",
    "\n",
    "    title = title.strip()\n",
    "    rating = rating.strip()\n",
    "\n",
    "\n",
    "\n",
    "    import datetime\n",
    "\n",
    "    today = datetime.date.today()\n",
    "    \n",
    "    import csv \n",
    "\n",
    "    header = ['Title', 'rating', 'Date']\n",
    "    data = [title, rating, today]\n",
    "\n",
    "    with open('AmazonWebScraperDataset.csv', 'a+', newline='', encoding='UTF8') as f:\n",
    "        writer = csv.writer(f)\n",
    "        writer.writerow(data)"
   ]
  },
  {
   "cell_type": "code",
   "execution_count": 194,
   "id": "096a2244",
   "metadata": {},
   "outputs": [],
   "source": [
    "# Runs check_price after a set time and inputs data into your CSV\n",
    "\n",
    "#import csv\n",
    "#import time\n",
    "\n",
    "# Function to check rating and write data to CSV\n",
    "#def check_rating():\n",
    "    # Perform the necessary operations to check the rating and retrieve data\n",
    " #   rating = 4.5\n",
    "  #  timestamp = time.strftime(\"%Y-%m-%d %H:%M:%S\")\n",
    "\n",
    "    # Write data to CSV\n",
    "   # with open(\"AmazonWebScraperDataset.csv\", mode=\"a\", newline=\"\") as file:\n",
    "    #    writer = csv.writer(file)\n",
    "     #   writer.writerow([timestamp, rating])\n",
    "\n",
    "# Run check_rating after a set time interval\n",
    "#interval = 5  # Time interval in seconds\n",
    "\n",
    "#while True:\n",
    " #   check_rating()\n",
    "  #  time.sleep(5)\n",
    "\n",
    "\n",
    "\n",
    "\n",
    "#import datetime\n",
    "#import csv\n",
    "\n",
    "# Create a Timestamp for your output to track when data was collected\n",
    "#today = datetime.date.today()\n",
    "\n",
    "#print(today)\n",
    "\n",
    "# Example data\n",
    "#title = \"Sample Title\"\n",
    "#rating = 4.5\n",
    "\n",
    "# Create CSV file and write headers and data\n",
    "#filename = \"output.csv\"\n",
    "\n",
    "#header = ['Title', 'Rating', 'Date']\n",
    "#data = [title, rating, today]\n",
    "\n",
    "#with open(filename, 'w', newline='') as file:\n",
    " #   writer = csv.writer(file)\n",
    "  #  writer.writerow(header)\n",
    "   # writer.writerow(data)\n",
    "\n",
    "#print(\"Data written to\", filename)\n"
   ]
  },
  {
   "cell_type": "code",
   "execution_count": 181,
   "id": "6927cacb",
   "metadata": {},
   "outputs": [
    {
     "name": "stdout",
     "output_type": "stream",
     "text": [
      "                                               Title      rating  Date\n",
      "0  Technically The Glass Is Full - Chemistry Humo...  22 ratings   NaN\n"
     ]
    }
   ],
   "source": [
    "import pandas as pd \n",
    "\n",
    "df = pd.read_csv(r'D:\\Data Analyst Project\\Data_webscraping\\AmazonWebScraperDataset.csv')\n",
    "\n",
    "print(df) "
   ]
  },
  {
   "cell_type": "code",
   "execution_count": 195,
   "id": "d8abd136",
   "metadata": {},
   "outputs": [],
   "source": [
    "# If uou want to try sending yourself an email (just for fun) when a price hits below a certain level you can try it\n",
    "# out with this script\n",
    "\n",
    "def send_mail():\n",
    "    server = smtplib.SMTP_SSL('smtp.gmail.com',465)\n",
    "    server.ehlo()\n",
    "    #server.starttls()\n",
    "    server.ehlo()\n",
    "    server.login('naimbenalaya10@gmail.com','xxxxxxxxx')\n",
    "    \n",
    "    subject = \"The Shirt you want is below $15! Now is your chance to buy!\"\n",
    "    body = \"Alex, This is the moment we have been waiting for. Now is your chance to pick up the shirt of your dreams. Don't mess it up! Link here: https://www.amazon.com/Funny-Data-Systems-Business-Analyst/dp/B07FNW9FGJ/ref=sr_1_3?dchild=1&keywords=data+analyst+tshirt&qid=1626655184&sr=8-3\"\n",
    "   \n",
    "    msg = f\"Subject: {subject}\\n\\n{body}\"\n",
    "    \n",
    "    server.sendmail(\n",
    "        'naimbenalaya10@gmail.com',\n",
    "        msg\n",
    "     \n",
    "    )"
   ]
  }
 ],
 "metadata": {
  "kernelspec": {
   "display_name": "Python 3",
   "language": "python",
   "name": "python3"
  },
  "language_info": {
   "codemirror_mode": {
    "name": "ipython",
    "version": 3
   },
   "file_extension": ".py",
   "mimetype": "text/x-python",
   "name": "python",
   "nbconvert_exporter": "python",
   "pygments_lexer": "ipython3",
   "version": "3.8.8"
  }
 },
 "nbformat": 4,
 "nbformat_minor": 5
}
